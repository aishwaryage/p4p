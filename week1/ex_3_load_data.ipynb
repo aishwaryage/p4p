{
  "cells": [
    {
      "cell_type": "markdown",
      "metadata": {
        "id": "view-in-github",
        "colab_type": "text"
      },
      "source": [
        "<a href=\"https://colab.research.google.com/github/aishwaryage/p4p/blob/main/week1/ex_3_load_data.ipynb\" target=\"_parent\"><img src=\"https://colab.research.google.com/assets/colab-badge.svg\" alt=\"Open In Colab\"/></a>"
      ]
    },
    {
      "cell_type": "markdown",
      "metadata": {
        "id": "0mjBZ5lXbbMy"
      },
      "source": [
        "**Again, we'll load some libraries**"
      ]
    },
    {
      "cell_type": "code",
      "execution_count": null,
      "metadata": {
        "id": "fabLFFgYQ1FC"
      },
      "outputs": [],
      "source": [
        "import matplotlib.pyplot as plt\n",
        "import numpy as np"
      ]
    },
    {
      "cell_type": "markdown",
      "metadata": {
        "id": "_A9fgIVeXchk"
      },
      "source": [
        "**And connect this notebook to our google drive**"
      ]
    },
    {
      "cell_type": "code",
      "execution_count": 2,
      "metadata": {
        "id": "Ws2l_xGHXb-J"
      },
      "outputs": [],
      "source": [
        "# from google.colab import drive\n",
        "# drive.mount('/content/drive')\n",
        "# !mkdir -p \"/content/drive/My Drive/Python4Physics\"\n",
        "# filepath=\"drive/My Drive/Python4Physics/\""
      ]
    },
    {
      "cell_type": "markdown",
      "metadata": {
        "id": "TctvvsdmfNcl"
      },
      "source": [
        "**In this module, we will load the data generated in ex_2_gauss.ipynb\n",
        "and plot it to make sure we get the same result**"
      ]
    },
    {
      "cell_type": "markdown",
      "metadata": {
        "id": "o4vb-YGmfSYg"
      },
      "source": [
        "**First, we'll load the file 'data.txt' which we made in the last example**"
      ]
    },
    {
      "cell_type": "code",
      "execution_count": 6,
      "metadata": {
        "id": "05YpGEwkfLiR",
        "outputId": "e3620761-ef85-433f-bbe5-31ece579c5a2",
        "colab": {
          "base_uri": "https://localhost:8080/"
        }
      },
      "outputs": [
        {
          "output_type": "stream",
          "name": "stdout",
          "text": [
            "<class 'numpy.ndarray'>\n"
          ]
        }
      ],
      "source": [
        "filename='data.txt'\n",
        "m0s = np.loadtxt(filename)\n",
        "print(type(m0s))"
      ]
    },
    {
      "cell_type": "markdown",
      "metadata": {
        "id": "20b0n4Ddfa1p"
      },
      "source": []
    },
    {
      "cell_type": "code",
      "execution_count": 7,
      "metadata": {
        "id": "cwptYG_WfZ0q",
        "outputId": "d97c27e6-0d6c-457b-c72f-cb57baba7b98",
        "colab": {
          "base_uri": "https://localhost:8080/",
          "height": 463
        }
      },
      "outputs": [
        {
          "output_type": "display_data",
          "data": {
            "text/plain": [
              "<Figure size 640x480 with 1 Axes>"
            ],
            "image/png": "[encoded data removed]"
          },
          "metadata": {}
        }
      ],
      "source": [
        "Nbins=20\n",
        "plt.hist(m0s, bins=Nbins)\n",
        "\n",
        "plt.ylabel('Number of points',size=20)\n",
        "plt.xlabel('m0',size=20, position=(1,1.2))\n",
        "plt.savefig('example_gauss_check.jpg')"
      ]
    }
  ],
  "metadata": {
    "colab": {
      "provenance": [],
      "include_colab_link": true
    },
    "kernelspec": {
      "display_name": "Python 3",
      "name": "python3"
    },
    "language_info": {
      "name": "python"
    }
  },
  "nbformat": 4,
  "nbformat_minor": 0
}