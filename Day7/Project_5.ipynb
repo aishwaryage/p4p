{
  "nbformat": 4,
  "nbformat_minor": 0,
  "metadata": {
    "colab": {
      "provenance": [],
      "include_colab_link": true
    },
    "kernelspec": {
      "name": "python3",
      "display_name": "Python 3"
    },
    "language_info": {
      "name": "python"
    }
  },
  "cells": [
    {
      "cell_type": "markdown",
      "metadata": {
        "id": "view-in-github",
        "colab_type": "text"
      },
      "source": [
        "<a href=\"https://colab.research.google.com/github/aishwaryage/p4p/blob/main/Day7/Project_5.ipynb\" target=\"_parent\"><img src=\"https://colab.research.google.com/assets/colab-badge.svg\" alt=\"Open In Colab\"/></a>"
      ]
    },
    {
      "cell_type": "code",
      "source": [
        "import matplotlib.pyplot as plt\n",
        "import numpy as np\n",
        "plt.rc('text', usetex=False)\n",
        "plt.rc('font', family='serif')"
      ],
      "metadata": {
        "id": "qcyZBxCTO1EZ"
      },
      "execution_count": 1,
      "outputs": []
    },
    {
      "cell_type": "code",
      "source": [
        "def rotate_vec(vec0):\n",
        "  \"\"\"\n",
        "  this piece of code rotates an array (vec0)\n",
        "  by one to the left\n",
        "  \"\"\"\n",
        "  N=len(vec0)\n",
        "  tmp = np.zeros(N)\n",
        "\n",
        "  # place elements from 1 onward in new list\n",
        "  tmp[0:N-1]= vec0[1:N]\n",
        "\n",
        "  # place element 0 at the end of new list\n",
        "  tmp[N-1]= vec0[0]\n",
        "\n",
        "  return tmp\n",
        "\n",
        "\n",
        "def Energy_Ising(St,a,b,c):\n",
        "  \"rotate the spins by one\"\n",
        "  Stp1 = rotate_vec(St)\n",
        "  \"rotate the spins by two\"\n",
        "  Stp2 = rotate_vec(Stp1)\n",
        "\n",
        "  # calculate each term with St/Stp1/Stp2\n",
        "  \"nearest neighbors\"\n",
        "  dEa = sum(St * Stp1) * a\n",
        "  \"next-to-nearest neighbors\"\n",
        "  dEb = sum(St * Stp2) * b\n",
        "  \"background field\"\n",
        "  dEc = sum(St) * c\n",
        "\n",
        "  return dEa + dEb + dEc"
      ],
      "metadata": {
        "id": "SEasXHPEO2pw"
      },
      "execution_count": 2,
      "outputs": []
    },
    {
      "cell_type": "code",
      "source": [
        "def ising_lists(N):\n",
        "  \"\"\"\n",
        "  if we have N possible spins,\n",
        "  there are 2^N possible states\n",
        "\n",
        "  we will put these into lists,\n",
        "  starting with a single spin that is\n",
        "  either up or down\n",
        "  \"\"\"\n",
        "  # this is the list if N=1\n",
        "  TOT=[[1],[-1]]\n",
        "\n",
        "  # we need to add N-1 spins to our list\n",
        "  for n in range(N-1):\n",
        "\n",
        "    # this is the current lenght of our list\n",
        "    Nt = len(TOT)\n",
        "    #print(Nt)\n",
        "\n",
        "    # loop over spin states in the list\n",
        "    # we will append the next spin, both +1 and -1\n",
        "    for j0 in range(Nt):\n",
        "\n",
        "\n",
        "      # make two copies\n",
        "      state1 = TOT[j0][:]\n",
        "      state2 = TOT[j0][:]\n",
        "      #print(state1)\n",
        "      #print(state2)\n",
        "      \"we add 1 to the first one\"\n",
        "      state1.append(1)\n",
        "      \"we add -1 to the second one\"\n",
        "      state2.append(-1)\n",
        "      #print(state1)\n",
        "      #print(state2)\n",
        "\n",
        "      \"here we replace the previous value of TOT[j0] with state1\"\n",
        "      TOT[j0]=state1\n",
        "      #print(TOT[j0])\n",
        "      \"here we add state2 to the end of TOT\"\n",
        "      TOT.append(state2)\n",
        "      #print(TOT)\n",
        "\n",
        "\n",
        "  return TOT"
      ],
      "metadata": {
        "id": "9ZAureGEO2sz"
      },
      "execution_count": 38,
      "outputs": []
    },
    {
      "cell_type": "code",
      "source": [
        "ising_lists(2)"
      ],
      "metadata": {
        "colab": {
          "base_uri": "https://localhost:8080/"
        },
        "id": "qvhFcw9HVdwJ",
        "outputId": "ac7757c9-5f1f-40ed-a836-e283002919b5"
      },
      "execution_count": 39,
      "outputs": [
        {
          "output_type": "execute_result",
          "data": {
            "text/plain": [
              "[[1, 1], [-1, 1], [1, -1], [-1, -1]]"
            ]
          },
          "metadata": {},
          "execution_count": 39
        }
      ]
    },
    {
      "cell_type": "code",
      "source": [
        "\"\"\"\n",
        "here we test that we are recovering the expected\n",
        "number of states for N=2,3,4\n",
        "\"\"\"\n",
        "print(\"\")\n",
        "print(\"###########################\")\n",
        "N=2\n",
        "states = ising_lists(N)\n",
        "print(\"N = \", N)\n",
        "print(\"number of states = \", len(states))\n",
        "print(\"expected number of states = \", pow(2,N))\n",
        "for state0 in states:\n",
        "  print(state0)\n",
        "\n",
        "print(\"\")\n",
        "print(\"###########################\")\n",
        "N=3\n",
        "states = ising_lists(N)\n",
        "print(\"N = \", N)\n",
        "print(\"number of states = \", len(states))\n",
        "print(\"expected number of states = \", pow(2,N))\n",
        "for state0 in states:\n",
        "  print(state0)\n",
        "\n",
        "print(\"\")\n",
        "print(\"###########################\")\n",
        "N=4\n",
        "states = ising_lists(N)\n",
        "print(\"N = \", N)\n",
        "print(\"number of states = \", len(states))\n",
        "print(\"expected number of states = \", pow(2,N))\n",
        "for state0 in states:\n",
        "  print(state0)"
      ],
      "metadata": {
        "id": "2S00i4o3O2vj",
        "colab": {
          "base_uri": "https://localhost:8080/"
        },
        "outputId": "12b2bc04-70d3-441a-b351-0046414ea701"
      },
      "execution_count": 40,
      "outputs": [
        {
          "output_type": "stream",
          "name": "stdout",
          "text": [
            "\n",
            "###########################\n",
            "N =  2\n",
            "number of states =  4\n",
            "expected number of states =  4\n",
            "[1, 1]\n",
            "[-1, 1]\n",
            "[1, -1]\n",
            "[-1, -1]\n",
            "\n",
            "###########################\n",
            "N =  3\n",
            "number of states =  8\n",
            "expected number of states =  8\n",
            "[1, 1, 1]\n",
            "[-1, 1, 1]\n",
            "[1, -1, 1]\n",
            "[-1, -1, 1]\n",
            "[1, 1, -1]\n",
            "[-1, 1, -1]\n",
            "[1, -1, -1]\n",
            "[-1, -1, -1]\n",
            "\n",
            "###########################\n",
            "N =  4\n",
            "number of states =  16\n",
            "expected number of states =  16\n",
            "[1, 1, 1, 1]\n",
            "[-1, 1, 1, 1]\n",
            "[1, -1, 1, 1]\n",
            "[-1, -1, 1, 1]\n",
            "[1, 1, -1, 1]\n",
            "[-1, 1, -1, 1]\n",
            "[1, -1, -1, 1]\n",
            "[-1, -1, -1, 1]\n",
            "[1, 1, 1, -1]\n",
            "[-1, 1, 1, -1]\n",
            "[1, -1, 1, -1]\n",
            "[-1, -1, 1, -1]\n",
            "[1, 1, -1, -1]\n",
            "[-1, 1, -1, -1]\n",
            "[1, -1, -1, -1]\n",
            "[-1, -1, -1, -1]\n"
          ]
        }
      ]
    },
    {
      "cell_type": "code",
      "source": [
        "\"\"\"\n",
        "this code evaluates the energies of all the possible\n",
        "spin states, and then sorts them from smallest value to biggest.\n",
        "\"\"\"\n",
        "def ising_sort(N):\n",
        "\n",
        "  # generate all states\n",
        "  TOT = ising_lists(N)\n",
        "\n",
        "  if print_opt=='y':\n",
        "    print(\"############################################\")\n",
        "    print(\"a,b,c\")\n",
        "    print(a,b,c)\n",
        "    print(\"total number of elements = \",len(TOT))\n",
        "    print(\"expected number is = \", pow(2,N))\n",
        "\n",
        "  Es = []\n",
        "  # loop over states and calculate the energy\n",
        "  for tot in TOT:\n",
        "    # needs to be array to use element-wise multiplication\n",
        "    St = np.array(tot)\n",
        "\n",
        "    # calculate the energy of the state (Hint use function Energy_Ising)\n",
        "    Et = Energy_Ising(St,a,b,c)\n",
        "\n",
        "    # add the energy to the list\n",
        "    Es.append(Et)\n",
        "\n",
        "  # numpy provides a function to order the energies\n",
        "  Es_sorted = np.sort(Es)\n",
        "\n",
        "  # the first element is the ground state (lowest energy)\n",
        "  E0 = Es_sorted[0]\n",
        "  if print_opt=='y':\n",
        "    print(\"ground state energy = \",E0)\n",
        "\n",
        "    # to look for degeneracies we need to loop over states again\n",
        "    Ndeg=0\n",
        "    for tot in TOT:\n",
        "      St = np.array(tot)\n",
        "      # calculate the energy of the state (Hint use function Energy_Ising)\n",
        "      Et = Energy_Ising(St, a, b, c)\n",
        "      if Et == E0:\n",
        "        print(tot)\n",
        "        Ndeg+=1\n",
        "\n",
        "    print(\"degeneracy for the ground state = \", Ndeg)\n",
        "    print(\"############################################\")\n",
        "    print(\"\")\n",
        "\n",
        "  return Es_sorted"
      ],
      "metadata": {
        "id": "QWpkyoECO2ye"
      },
      "execution_count": 46,
      "outputs": []
    },
    {
      "cell_type": "code",
      "source": [
        "\"\"\"\n",
        "here we use the code above to consider different possible scenarios\n",
        "\"\"\"\n",
        "examples3to6 = 'y'\n",
        "if examples3to6 =='y':\n",
        "  det_opt='gs'\n",
        "  print_opt = 'y'\n",
        "\n",
        "  a,b,c = 5,1,.01\n",
        "  ising_sort(3)\n",
        "\n",
        "  a,b,c = -5,1,.0\n",
        "  ising_sort(10)\n",
        "\n",
        "\n",
        "  a,b,c = -5,1,.01\n",
        "  ising_sort(10)\n",
        "\n",
        "  a,b,c = -5,1,-.01\n",
        "  ising_sort(10)\n",
        "\n",
        "  a,b,c = 15,-.2,.02\n",
        "  ising_sort(15)"
      ],
      "metadata": {
        "id": "-uuTZ_jdPQ7C",
        "colab": {
          "base_uri": "https://localhost:8080/"
        },
        "outputId": "80cd453c-b0c8-4537-ae17-f72f6ba9877c"
      },
      "execution_count": 48,
      "outputs": [
        {
          "output_type": "stream",
          "name": "stdout",
          "text": [
            "############################################\n",
            "a,b,c\n",
            "5 1 0.01\n",
            "total number of elements =  8\n",
            "expected number is =  8\n",
            "ground state energy =  -6.01\n",
            "[-1, -1, 1]\n",
            "[-1, 1, -1]\n",
            "[1, -1, -1]\n",
            "degeneracy for the ground state =  3\n",
            "############################################\n",
            "\n",
            "############################################\n",
            "a,b,c\n",
            "-5 1 0.0\n",
            "total number of elements =  1024\n",
            "expected number is =  1024\n",
            "ground state energy =  -40.0\n",
            "[1, 1, 1, 1, 1, 1, 1, 1, 1, 1]\n",
            "[-1, -1, -1, -1, -1, -1, -1, -1, -1, -1]\n",
            "degeneracy for the ground state =  2\n",
            "############################################\n",
            "\n",
            "############################################\n",
            "a,b,c\n",
            "-5 1 0.01\n",
            "total number of elements =  1024\n",
            "expected number is =  1024\n",
            "ground state energy =  -40.1\n",
            "[-1, -1, -1, -1, -1, -1, -1, -1, -1, -1]\n",
            "degeneracy for the ground state =  1\n",
            "############################################\n",
            "\n",
            "############################################\n",
            "a,b,c\n",
            "-5 1 -0.01\n",
            "total number of elements =  1024\n",
            "expected number is =  1024\n",
            "ground state energy =  -40.1\n",
            "[1, 1, 1, 1, 1, 1, 1, 1, 1, 1]\n",
            "degeneracy for the ground state =  1\n",
            "############################################\n",
            "\n",
            "############################################\n",
            "a,b,c\n",
            "15 -0.2 0.02\n",
            "total number of elements =  32768\n",
            "expected number is =  32768\n",
            "ground state energy =  -197.22\n",
            "[-1, -1, 1, -1, 1, -1, 1, -1, 1, -1, 1, -1, 1, -1, 1]\n",
            "[-1, 1, -1, -1, 1, -1, 1, -1, 1, -1, 1, -1, 1, -1, 1]\n",
            "[-1, 1, -1, 1, -1, -1, 1, -1, 1, -1, 1, -1, 1, -1, 1]\n",
            "[-1, 1, -1, 1, -1, 1, -1, -1, 1, -1, 1, -1, 1, -1, 1]\n",
            "[-1, 1, -1, 1, -1, 1, -1, 1, -1, -1, 1, -1, 1, -1, 1]\n",
            "[-1, 1, -1, 1, -1, 1, -1, 1, -1, 1, -1, -1, 1, -1, 1]\n",
            "[-1, 1, -1, 1, -1, 1, -1, 1, -1, 1, -1, 1, -1, -1, 1]\n",
            "[-1, 1, -1, 1, -1, 1, -1, 1, -1, 1, -1, 1, -1, 1, -1]\n",
            "[1, -1, -1, 1, -1, 1, -1, 1, -1, 1, -1, 1, -1, 1, -1]\n",
            "[1, -1, 1, -1, -1, 1, -1, 1, -1, 1, -1, 1, -1, 1, -1]\n",
            "[1, -1, 1, -1, 1, -1, -1, 1, -1, 1, -1, 1, -1, 1, -1]\n",
            "[1, -1, 1, -1, 1, -1, 1, -1, -1, 1, -1, 1, -1, 1, -1]\n",
            "[1, -1, 1, -1, 1, -1, 1, -1, 1, -1, -1, 1, -1, 1, -1]\n",
            "[1, -1, 1, -1, 1, -1, 1, -1, 1, -1, 1, -1, -1, 1, -1]\n",
            "[1, -1, 1, -1, 1, -1, 1, -1, 1, -1, 1, -1, 1, -1, -1]\n",
            "degeneracy for the ground state =  15\n",
            "############################################\n",
            "\n"
          ]
        }
      ]
    },
    {
      "cell_type": "code",
      "source": [
        "print_opt = 'n'\n",
        "a,b,c = 1,.1,0\n",
        "\n",
        "cs= np.arange(-2.5,-1,.01)\n",
        "E0s=[]\n",
        "N=10\n",
        "\n",
        "\"the assumed ground state for c=0\"\n",
        "St0=[]\n",
        "for j0 in range(N):\n",
        "  St0.append(pow(-1,j0))\n",
        "\n",
        "\n",
        "\"the assumed ground state for c=infty\"\n",
        "Stinfty=[]\n",
        "for j0 in range(N):\n",
        "  Stinfty.append(1)\n",
        "\n",
        "print(\"guess for gs =\", St0)\n",
        "Egs_vec=[]\n",
        "E0_vec=[]\n",
        "Einfty_vec=[]\n",
        "for c in cs:\n",
        "  # ground state energy of the system\n",
        "  Egs = ising_sort(N)[0]\n",
        "  Egs_vec.append(Egs)\n",
        "\n",
        "  # energy for St0\n",
        "  E0 = Energy_Ising(St0,a,b,c)\n",
        "  E0_vec.append(E0)\n",
        "\n",
        "  # energy for Stinfty\n",
        "  Einfty = Energy_Ising(Stinfty,a,b,c)\n",
        "  Einfty_vec.append(Einfty)\n",
        "\n",
        "\n",
        "plt.plot(cs,np.array(E0_vec),color='r', label='alternating spin chain energy (gs c=0)')\n",
        "plt.plot(cs,np.array(Einfty_vec),color='g', label='1 spin chain energy (gs c=$-\\infty$)')\n",
        "\n",
        "plt.plot(cs,np.array(Egs_vec),color='k', ls='--', label='Ground state energy')\n",
        "\n",
        "plt.legend()\n",
        "\n",
        "plt.xlabel('c')\n",
        "plt.ylabel('Energy')"
      ],
      "metadata": {
        "id": "hU-zR1NtPXHJ",
        "colab": {
          "base_uri": "https://localhost:8080/",
          "height": 484
        },
        "outputId": "1949b6f3-2d70-469f-e1d1-c37e0880ae58"
      },
      "execution_count": 49,
      "outputs": [
        {
          "output_type": "stream",
          "name": "stdout",
          "text": [
            "guess for gs = [1, -1, 1, -1, 1, -1, 1, -1, 1, -1]\n"
          ]
        },
        {
          "output_type": "execute_result",
          "data": {
            "text/plain": [
              "Text(0, 0.5, 'Energy')"
            ]
          },
          "metadata": {},
          "execution_count": 49
        },
        {
          "output_type": "display_data",
          "data": {
            "text/plain": [
              "<Figure size 640x480 with 1 Axes>"
            ],
            "image/png": "[encoded data removed]"
          },
          "metadata": {}
        }
      ]
    }
  ]
}